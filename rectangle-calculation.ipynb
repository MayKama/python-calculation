{
 "cells": [
  {
   "cell_type": "code",
   "execution_count": null,
   "id": "searching-buffer",
   "metadata": {},
   "outputs": [],
   "source": [
    "The length of rectangle is given as 10, its width is given as 20. Calculate its area and perimeter.\n",
    "\n",
    "**Hint**\n",
    "1. Assign variables to the length and width of the rectangle\n",
    "\n",
    "2. Assign another variable to the calculated area and permeter\n"
   ]
  },
  {
   "cell_type": "code",
   "execution_count": null,
   "id": "fifteen-airplane",
   "metadata": {},
   "outputs": [],
   "source": [
    "## calculating the area andd perimeter of rectangle\n",
    "\n",
    "def  area_of_rectangle (length_num, width_num) :\n",
    "## calcuating the area of a rectangle (length * width)\n",
    "## The area of a rectangle of length 10 and width 20\n",
    "\n",
    "    return ( length_num * width_num)\n",
    "\n",
    "length_num = 10;\n",
    "width_num = 20;\n",
    "\n",
    "print(\"The area of a rectangle of length 10 and width 20 is = \",  length_num * width_num)\n",
    "\n",
    "\n",
    "## calculating perimetter of a rectangle 2(length + width)\n",
    "\n",
    "def perimeter_of_rectangle(length_num, width_num) :\n",
    "    \n",
    "    \n",
    "    return ( 2 *( length_num + width_num))\n",
    "\n",
    "length_num = 10;\n",
    "width_num = 20;\n",
    "\n",
    "print() #this print empty space\n",
    "print( \"the perimeter of a rectangle is =,\",perimeter_of_rectangle(length_num, width_num))\n",
    "\n",
    "#determine the datatype of the length andd width variable\n",
    "print(f\"the type of length is {type(length_num)}\")\n",
    "print(f\"the type of width is {type(width_num)}\")\n",
    "print(f\"the type of area_of_rectangle is {type(area_of_rectangle)}\")\n",
    "print(f\"the type of perimeter_of_rectangle is {type(perimeter_of_rectangle)}\")\n"
   ]
  },
  {
   "cell_type": "code",
   "execution_count": null,
   "id": "instant-malaysia",
   "metadata": {},
   "outputs": [],
   "source": [
    "What is the datatype of the length, width, area and perimeter above?\n",
    "\n",
    "\n",
    "Divide any of the variables above by any number (except 0 !), assign it to variable. What is the datatype of the resulting variable?\n"
   ]
  },
  {
   "cell_type": "code",
   "execution_count": null,
   "id": "approved-legislation",
   "metadata": {},
   "outputs": [],
   "source": [
    "def  area_of_rectangle (length_num, width_num) :\n",
    "## calcuating the area of a rectangle (length * width)\n",
    "## The area of a rectangle of length 10 and width 20\n",
    "\n",
    "    return ( length_num * width_num)\n",
    "\n",
    "length_num = 10;\n",
    "width_num = 20;\n",
    "area = area_of_rectangle( length_num, width_num);\n",
    "\n",
    "# dividing the area of a rectange variable.\n",
    "area_by_half = area/3\n",
    "\n",
    "\n",
    "print(f\"Area is  a :{type(area_by_half)}, area divided by 3: {type(area_by_half)}\")\n",
    "\n",
    "print(\"The area of a rectangle of length 10 and width 20 is = \",  length_num * width_num)\n",
    "print(area_by_half)\n",
    "\n",
    "# Observation: i observed that dividing the variable changes its datatype to float not minding the number.\n",
    "\n"
   ]
  }
 ],
 "metadata": {
  "kernelspec": {
   "display_name": "Python 3",
   "language": "python",
   "name": "python3"
  },
  "language_info": {
   "codemirror_mode": {
    "name": "ipython",
    "version": 3
   },
   "file_extension": ".py",
   "mimetype": "text/x-python",
   "name": "python",
   "nbconvert_exporter": "python",
   "pygments_lexer": "ipython3",
   "version": "3.6.6"
  }
 },
 "nbformat": 4,
 "nbformat_minor": 5
}
